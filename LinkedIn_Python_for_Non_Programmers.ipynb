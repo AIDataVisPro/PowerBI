{
  "nbformat": 4,
  "nbformat_minor": 0,
  "metadata": {
    "colab": {
      "provenance": [],
      "authorship_tag": "ABX9TyOKQHfYQXj6Hn3W/5utSZO+",
      "include_colab_link": true
    },
    "kernelspec": {
      "name": "python3",
      "display_name": "Python 3"
    },
    "language_info": {
      "name": "python"
    }
  },
  "cells": [
    {
      "cell_type": "markdown",
      "metadata": {
        "id": "view-in-github",
        "colab_type": "text"
      },
      "source": [
        "<a href=\"https://colab.research.google.com/github/AIDataVisPro/PowerBI/blob/main/LinkedIn_Python_for_Non_Programmers.ipynb\" target=\"_parent\"><img src=\"https://colab.research.google.com/assets/colab-badge.svg\" alt=\"Open In Colab\"/></a>"
      ]
    },
    {
      "cell_type": "code",
      "execution_count": null,
      "metadata": {
        "colab": {
          "base_uri": "https://localhost:8080/"
        },
        "id": "9zVgWq6Ay0H0",
        "outputId": "f497cfca-8f00-427a-e092-3df0c3869ed4"
      },
      "outputs": [
        {
          "output_type": "stream",
          "name": "stdout",
          "text": [
            "13\n"
          ]
        }
      ],
      "source": [
        "#variables & assigning values\n",
        "day = 13\n",
        "print(day)"
      ]
    },
    {
      "cell_type": "code",
      "source": [
        "age = 32\n",
        "print(age) #variable can be assigned any number of value during the project\n",
        "age = 64\n",
        "print(age) #variable always picks up the latest value assigned to it\n",
        "weight = 190.4\n",
        "shirt='blue'\n",
        "store=3\n",
        "print(\"Shirt\") #prints the etxt under double quotes\n",
        "print(shirt) #prints the value stored under variable in parenthesis\n",
        "#james = 'Nick's Pizza 'Shop' #check with gemini why did this give an error\n",
        "jamess = \"Nick's Pizza Shop\"\n",
        "jamesss = 'Nick\\'s Pizza Shop' #check with gemini why did this not give an error\n",
        "jamessss = \"Nicks Pizza Shop\" #check with gemini why did this give an error\n",
        "\n",
        "print(jamessss)\n",
        "\n",
        "#Q)put the name of a movie you like, in a variable called movie\n",
        "movie = 'Avengers'\n",
        "print(movie)"
      ],
      "metadata": {
        "colab": {
          "base_uri": "https://localhost:8080/"
        },
        "id": "fLhJfHS_YIgc",
        "outputId": "3f9ef8d9-c83b-48f1-b63d-4f102b92566a"
      },
      "execution_count": null,
      "outputs": [
        {
          "output_type": "stream",
          "name": "stdout",
          "text": [
            "32\n",
            "64\n",
            "Shirt\n",
            "blue\n",
            "Nicks Pizza Shop\n",
            "Avengers\n"
          ]
        }
      ]
    },
    {
      "cell_type": "code",
      "source": [
        "day = 25\n",
        "month = 'october'\n",
        "temp = 24\n",
        "\n",
        "print(\"Today is \" + str(month) + \" \" + str(day) + \"th and it's \" + str(temp) + \" degrees outside\")\n",
        "print(f\"Today is {month} {day}th and it's {temp} degrees outside\")\n",
        "\n",
        "#Q)Make a variable day_name and set it to the day of the week  like Tuesday and add it to the string we print\n",
        "day_name = 'Tuesday'\n",
        "print(f\"Today is {day_name}, {month} {day}th and it's {temp} degrees outside\")"
      ],
      "metadata": {
        "colab": {
          "base_uri": "https://localhost:8080/"
        },
        "id": "pjFtRwakbArU",
        "outputId": "149909c4-926c-4c1e-97c8-9c556352c7cf"
      },
      "execution_count": null,
      "outputs": [
        {
          "output_type": "stream",
          "name": "stdout",
          "text": [
            "Today is october 25th and it's 24 degrees outside\n",
            "Today is october 25th and it's 24 degrees outside\n",
            "Today is Tuesday, october 25th and it's 24 degrees outside\n"
          ]
        }
      ]
    },
    {
      "cell_type": "code",
      "source": [
        "day = 21\n",
        "weight = 190.4\n",
        "month = 'october'\n",
        "\n",
        "light_is_on = True\n",
        "\n",
        "if light_is_on:\n",
        "  print(\"The light is on!\")\n",
        "  print(\"This will print only if the light is ON\") #the statement inside if-else spacing will print depending on the if-else statement\n",
        "else:\n",
        "  print(\"The light is off!\")\n",
        "  print(\"This will print only if the light is OFF\") #the statement inside if-else spacing will print depending on the if-else statement\n",
        "print(\"Hello\") #everything outside the if or else spacing, will run independet of if-else conditions\n",
        "\n",
        "#Find something around you that could be represented by a Boolean make a variable for it"
      ],
      "metadata": {
        "colab": {
          "base_uri": "https://localhost:8080/"
        },
        "id": "47D3JsVke1yE",
        "outputId": "369f5e99-e214-49a8-acbb-86372551bc64"
      },
      "execution_count": null,
      "outputs": [
        {
          "output_type": "stream",
          "name": "stdout",
          "text": [
            "The light is on!\n",
            "This will print only if the light is ON\n",
            "Hello\n"
          ]
        }
      ]
    },
    {
      "cell_type": "code",
      "source": [
        "light_is_on=None #Resets the variable\n",
        "\n",
        "#Game creation\n",
        "import random\n",
        "#auto select a random number between 1-100\n",
        "number = random.randint(1, 100)\n",
        "print(number)\n",
        "\n",
        "#auto select a random number, check if it is even or odd, if even > auto-set light_is_on as True, else False\n",
        "if number % 2 == 0:\n",
        "  light_is_on = True\n",
        "  print(\"The light is on!\")\n",
        "else:\n",
        "  light_is_on = False\n",
        "  print(\"The light is off!\")"
      ],
      "metadata": {
        "colab": {
          "base_uri": "https://localhost:8080/"
        },
        "id": "Fb8t15jmf6Pu",
        "outputId": "c78963dd-658a-497c-c527-583cb40661bf"
      },
      "execution_count": null,
      "outputs": [
        {
          "output_type": "stream",
          "name": "stdout",
          "text": [
            "54\n",
            "The light is on!\n"
          ]
        }
      ]
    },
    {
      "cell_type": "code",
      "source": [
        "#create a integer which auto selects and stores a random number, then we need to evaluate if the number stored is even or odd. based on if the number is even we need to print, the light is on else if the number is off we need to print the light is off\n",
        "\n",
        "import random\n",
        "number = random.randint(1, 100)\n",
        "print(number)\n",
        "if number % 2 == 0:\n",
        "  print(\"The light is on!\")\n",
        "else:\n",
        "  print(\"The light is off!\")\n"
      ],
      "metadata": {
        "colab": {
          "base_uri": "https://localhost:8080/"
        },
        "id": "uwae0hcpiFdj",
        "outputId": "341f8b06-99e5-4661-b340-378ab3f647f7"
      },
      "execution_count": null,
      "outputs": [
        {
          "output_type": "stream",
          "name": "stdout",
          "text": [
            "88\n",
            "The light is on!\n"
          ]
        }
      ]
    },
    {
      "cell_type": "code",
      "source": [
        "#Comparison & Else\n",
        "\n",
        "#Make a variable age, and if someone is 18 years or older, print that they are an adult. Otherwise print that they are a child\n",
        "\n",
        "age = int(input(\"Enter your age: \"))\n",
        "if age >= 18:\n",
        "    print(\"You are an adult.\")\n",
        "else:\n",
        "    print(\"You are a child.\")\n"
      ],
      "metadata": {
        "colab": {
          "base_uri": "https://localhost:8080/"
        },
        "id": "7Bxr4rS9qffw",
        "outputId": "49800bf4-8667-43d0-bc68-e48406618e3e"
      },
      "execution_count": null,
      "outputs": [
        {
          "output_type": "stream",
          "name": "stdout",
          "text": [
            "Enter your age: 12\n",
            "You are a child.\n"
          ]
        }
      ]
    },
    {
      "cell_type": "code",
      "source": [
        "# complete the below code, to print false if the number is even. Print True if\n",
        "# the number is odd\n",
        "\n",
        "def your_code():\n",
        "\n",
        "  number = 7\n",
        "\n",
        "  # Your code goes here.\n",
        "  if number % 2 == 0:\n",
        "    print(\"False\")\n",
        "  else:\n",
        "    print(\"True\")\n",
        "  return False\n",
        "your_code()"
      ],
      "metadata": {
        "colab": {
          "base_uri": "https://localhost:8080/"
        },
        "id": "c9sxMirpuZ9v",
        "outputId": "f67997f3-a32e-41bd-df09-ca9a9a8cb21f"
      },
      "execution_count": null,
      "outputs": [
        {
          "output_type": "stream",
          "name": "stdout",
          "text": [
            "True\n"
          ]
        },
        {
          "output_type": "execute_result",
          "data": {
            "text/plain": [
              "False"
            ]
          },
          "metadata": {},
          "execution_count": 86
        }
      ]
    },
    {
      "cell_type": "markdown",
      "source": [
        "LISTS, LOOPS & DICTIONARIES\n",
        "\n",
        "```\n",
        "# This is formatted as code\n",
        "```\n",
        "\n"
      ],
      "metadata": {
        "id": "Wz-3H46JAB4o"
      }
    },
    {
      "cell_type": "code",
      "source": [
        "# Lists, Loops & Dictionaries\n",
        "\n",
        "list1 = [1,2,3.3,True,\"Name\"]\n",
        "print(list1)"
      ],
      "metadata": {
        "colab": {
          "base_uri": "https://localhost:8080/"
        },
        "id": "fIXUKaRoAHaV",
        "outputId": "1799fdef-b48d-44ba-81d0-f06aba4e2c16"
      },
      "execution_count": 11,
      "outputs": [
        {
          "output_type": "stream",
          "name": "stdout",
          "text": [
            "[1, 2, 3.3, True, 'Name']\n"
          ]
        }
      ]
    },
    {
      "cell_type": "code",
      "source": [
        "fav_movies = [\"sandlot\", \"The lego movie\", \"Dune\"]\n",
        "print(fav_movies)\n",
        "print(fav_movies[0])\n",
        "print(fav_movies[1])\n",
        "print(fav_movies[2])"
      ],
      "metadata": {
        "colab": {
          "base_uri": "https://localhost:8080/"
        },
        "id": "-pvBkNZ2AUUc",
        "outputId": "fc734d4b-d0d0-4e60-b52b-58d2224cb24e"
      },
      "execution_count": 28,
      "outputs": [
        {
          "output_type": "stream",
          "name": "stdout",
          "text": [
            "['sandlot', 'The lego movie', 'Dune']\n",
            "sandlot\n",
            "The lego movie\n",
            "Dune\n"
          ]
        }
      ]
    },
    {
      "cell_type": "code",
      "source": [
        "#Q) Make a list of 3 fav numbers and print the first number from your list\n",
        "\n",
        "fav_numbers = [11,22,33]\n",
        "print(fav_numbers[0])\n"
      ],
      "metadata": {
        "colab": {
          "base_uri": "https://localhost:8080/"
        },
        "id": "Aqey5L05A1tF",
        "outputId": "0ed83e38-b270-402e-aa7c-7e1132baaa9c"
      },
      "execution_count": 29,
      "outputs": [
        {
          "output_type": "stream",
          "name": "stdout",
          "text": [
            "11\n"
          ]
        }
      ]
    },
    {
      "cell_type": "markdown",
      "source": [
        "Lists: Add, Instert, Delete"
      ],
      "metadata": {
        "id": "w5LwSwO6BW3k"
      }
    },
    {
      "cell_type": "code",
      "source": [
        "print(len(fav_numbers))\n",
        "print(len(fav_movies))\n",
        "\n",
        "#insert\n",
        "\n",
        "fav_movies.append(\"Iron Man\") #after append, the new movie gets added towards the end\n",
        "#& hence length of the variable changes to (+1)\n",
        "\n",
        "print(len(fav_movies))\n",
        "\n",
        "#check what location is the new movie added\n",
        "print(fav_movies)  # Print the entire list to see the order\n",
        "print(fav_movies.index(\"Iron Man\"))  # Get the index of \"Iron Man\"\n"
      ],
      "metadata": {
        "colab": {
          "base_uri": "https://localhost:8080/"
        },
        "id": "O7gnxK05BcUh",
        "outputId": "ebd00281-5ac3-4d5a-8650-508186c8410d"
      },
      "execution_count": 30,
      "outputs": [
        {
          "output_type": "stream",
          "name": "stdout",
          "text": [
            "3\n",
            "3\n",
            "4\n",
            "['sandlot', 'The lego movie', 'Dune', 'Iron Man']\n",
            "3\n"
          ]
        }
      ]
    },
    {
      "cell_type": "code",
      "source": [
        "print(fav_movies)"
      ],
      "metadata": {
        "colab": {
          "base_uri": "https://localhost:8080/"
        },
        "id": "j0hF1TElLJMu",
        "outputId": "23f17249-a568-4fc5-cc37-bde55870c942"
      },
      "execution_count": 31,
      "outputs": [
        {
          "output_type": "stream",
          "name": "stdout",
          "text": [
            "['sandlot', 'The lego movie', 'Dune', 'Iron Man']\n"
          ]
        }
      ]
    },
    {
      "cell_type": "code",
      "source": [
        "del(fav_movies[2])\n",
        "del(fav_movies[1])\n",
        "del(fav_movies[0])\n",
        "print(fav_movies)"
      ],
      "metadata": {
        "colab": {
          "base_uri": "https://localhost:8080/"
        },
        "id": "ADHx_JyfJmq_",
        "outputId": "d33769d1-3900-4b41-ca36-f4be6c141fa9"
      },
      "execution_count": 32,
      "outputs": [
        {
          "output_type": "stream",
          "name": "stdout",
          "text": [
            "['Iron Man']\n"
          ]
        }
      ]
    },
    {
      "cell_type": "code",
      "source": [
        "del fav_movies  #To selectively clear variables, you can use the del statement in Python:\n"
      ],
      "metadata": {
        "id": "pwoIPRp8G7dl"
      },
      "execution_count": 16,
      "outputs": []
    },
    {
      "cell_type": "code",
      "source": [
        "for number in range(10):\n",
        "  print(number)"
      ],
      "metadata": {
        "colab": {
          "base_uri": "https://localhost:8080/"
        },
        "id": "64jt-4N9Mt-S",
        "outputId": "84d3c99f-c47b-40c5-8164-65961b84f85d"
      },
      "execution_count": 36,
      "outputs": [
        {
          "output_type": "stream",
          "name": "stdout",
          "text": [
            "0\n",
            "1\n",
            "2\n",
            "3\n",
            "4\n",
            "5\n",
            "6\n",
            "7\n",
            "8\n",
            "9\n"
          ]
        }
      ]
    },
    {
      "cell_type": "code",
      "source": [
        "print(fav_numbers)\n",
        "\n",
        "for number in fav_numbers:\n",
        "  print(number)"
      ],
      "metadata": {
        "colab": {
          "base_uri": "https://localhost:8080/"
        },
        "id": "zZl-W3DHNCdZ",
        "outputId": "b7547c74-4494-43fd-8d7e-3af1dfc111cb"
      },
      "execution_count": 39,
      "outputs": [
        {
          "output_type": "stream",
          "name": "stdout",
          "text": [
            "[11, 22, 33]\n",
            "11\n",
            "22\n",
            "33\n"
          ]
        }
      ]
    },
    {
      "cell_type": "code",
      "source": [
        "#Q) loop 40 times and print the number of the loop times 2\n",
        "#Ex 2,4,6,8\n",
        "\n",
        "for x in range(10): #can be done till 40 or till any number you need\n",
        "  print(x*2)"
      ],
      "metadata": {
        "colab": {
          "base_uri": "https://localhost:8080/"
        },
        "id": "H-YxiQFyNS8W",
        "outputId": "1038e8a2-55b8-44e3-dcbe-4934f3faa54b"
      },
      "execution_count": 42,
      "outputs": [
        {
          "output_type": "stream",
          "name": "stdout",
          "text": [
            "0\n",
            "2\n",
            "4\n",
            "6\n",
            "8\n",
            "10\n",
            "12\n",
            "14\n",
            "16\n",
            "18\n"
          ]
        }
      ]
    },
    {
      "cell_type": "code",
      "source": [
        "#repeating the same above, removing 0 from top\n",
        "\n",
        "for x in range(10): #can be done till 40 or till any number you need\n",
        "  print((x+1)*2)"
      ],
      "metadata": {
        "colab": {
          "base_uri": "https://localhost:8080/"
        },
        "id": "iJYu-bwPOFZb",
        "outputId": "f2f773af-b7ef-463c-a025-a49cd77c3f60"
      },
      "execution_count": 43,
      "outputs": [
        {
          "output_type": "stream",
          "name": "stdout",
          "text": [
            "2\n",
            "4\n",
            "6\n",
            "8\n",
            "10\n",
            "12\n",
            "14\n",
            "16\n",
            "18\n",
            "20\n"
          ]
        }
      ]
    },
    {
      "cell_type": "code",
      "source": [
        "#Dictionaries"
      ],
      "metadata": {
        "id": "hceZG7Co5zX5"
      },
      "execution_count": 1,
      "outputs": []
    },
    {
      "cell_type": "code",
      "source": [
        "cats = {\"Jane\":6, \"Tom\":14, \"Sara\":8}\n",
        "print(cats)\n",
        "print(cats[\"Tom\"])\n",
        "\n",
        "cats[\"Wilson\"] = 1\n",
        "print(cats)\n",
        "print(len(cats))\n",
        "\n",
        "del(cats[\"Tom\"])\n",
        "print(len(cats))"
      ],
      "metadata": {
        "colab": {
          "base_uri": "https://localhost:8080/"
        },
        "id": "Mt4oR3Ff51kl",
        "outputId": "b65a3528-0942-4699-d54f-5b8d367ddf34"
      },
      "execution_count": 8,
      "outputs": [
        {
          "output_type": "stream",
          "name": "stdout",
          "text": [
            "{'Jane': 6, 'Tom': 14, 'Sara': 8}\n",
            "14\n",
            "{'Jane': 6, 'Tom': 14, 'Sara': 8, 'Wilson': 1}\n",
            "4\n",
            "3\n"
          ]
        }
      ]
    },
    {
      "cell_type": "code",
      "source": [
        "#Q) Create a dictionary for Ints for keys and Booleans for values\n",
        "\n",
        "Dictionary = {1:True, 2:False, 3:True}\n",
        "print(Dictionary)"
      ],
      "metadata": {
        "colab": {
          "base_uri": "https://localhost:8080/"
        },
        "id": "G1nEmAaS7NON",
        "outputId": "2f4066fb-f755-46fa-81ed-1f6400f8fbad"
      },
      "execution_count": 9,
      "outputs": [
        {
          "output_type": "stream",
          "name": "stdout",
          "text": [
            "{1: True, 2: False, 3: True}\n"
          ]
        }
      ]
    },
    {
      "cell_type": "code",
      "source": [
        "#Q) Find all the even numbers in the list called numbers and then add all those even numbers together. Return the sum of all even numbers\n",
        "\n",
        "numbers = [62, 66, 94, 97, 25, 11, 68, 54, 48, 67]\n",
        "\n",
        "sum_of_even_numbers = 0\n",
        "\n",
        "for number in numbers:\n",
        "    if number % 2 == 0:\n",
        "        sum_of_even_numbers += number\n",
        "\n",
        "print(sum_of_even_numbers)\n"
      ],
      "metadata": {
        "colab": {
          "base_uri": "https://localhost:8080/"
        },
        "id": "VKW4dUCP8P4a",
        "outputId": "3e754213-f9ca-46a7-8017-899a5c9aef06"
      },
      "execution_count": 10,
      "outputs": [
        {
          "output_type": "stream",
          "name": "stdout",
          "text": [
            "392\n"
          ]
        }
      ]
    },
    {
      "cell_type": "code",
      "source": [
        "#Q) Find all the even numbers in the list called numbers and then add all those even numbers together. Return the sum of all even numbers\n",
        "\n",
        "numbers = [62, 66, 94, 97, 25, 11, 68, 54, 48, 67]\n",
        "\n",
        "even_numbers = []\n",
        "\n",
        "for number in numbers:\n",
        "    if number % 2 == 0:\n",
        "        even_numbers.append(number)\n",
        "\n",
        "\n",
        "sum_of_even_numbers = sum(even_numbers)\n",
        "print (even_numbers)\n",
        "print(sum_of_even_numbers)\n"
      ],
      "metadata": {
        "colab": {
          "base_uri": "https://localhost:8080/"
        },
        "id": "tS_qtz3i9TOY",
        "outputId": "dd650e95-646f-4487-b8d7-f5d3773a56b5"
      },
      "execution_count": 13,
      "outputs": [
        {
          "output_type": "stream",
          "name": "stdout",
          "text": [
            "[62, 66, 94, 68, 54, 48]\n",
            "392\n"
          ]
        }
      ]
    },
    {
      "cell_type": "code",
      "source": [
        "#count the number of words in a text\n",
        "\n",
        "text = \"\"\"a b c a a b\"\"\"\n",
        "\n",
        "print(text.split())\n",
        "\n",
        "word_count = {}\n",
        "\n",
        "for word in text.split():\n",
        "  print(word)"
      ],
      "metadata": {
        "colab": {
          "base_uri": "https://localhost:8080/"
        },
        "id": "ta7GDPXBbG7i",
        "outputId": "80515074-c397-4346-cd80-8186ff3196e6"
      },
      "execution_count": 3,
      "outputs": [
        {
          "output_type": "stream",
          "name": "stdout",
          "text": [
            "['a', 'b', 'c', 'a', 'a', 'b']\n",
            "a\n",
            "b\n",
            "c\n",
            "a\n",
            "a\n",
            "b\n"
          ]
        }
      ]
    },
    {
      "cell_type": "code",
      "source": [
        "text = \"\"\"a b c a a b\"\"\"\n",
        "\n",
        "print(text.split())\n",
        "\n",
        "word_count = {}\n",
        "\n",
        "for word in text.split():\n",
        "  word_count[word] = 1\n",
        "print(word_count)"
      ],
      "metadata": {
        "colab": {
          "base_uri": "https://localhost:8080/"
        },
        "id": "t8ZNaWaAdYiY",
        "outputId": "b0d78fe9-e469-4631-c108-a1174660aee8"
      },
      "execution_count": 5,
      "outputs": [
        {
          "output_type": "stream",
          "name": "stdout",
          "text": [
            "['a', 'b', 'c', 'a', 'a', 'b']\n",
            "{'a': 1, 'b': 1, 'c': 1}\n"
          ]
        }
      ]
    },
    {
      "cell_type": "code",
      "source": [
        "text = \"\"\"a b c a a b\"\"\"\n",
        "\n",
        "print(text.split())\n",
        "\n",
        "word_count = {}\n",
        "\n",
        "for word in text.split():\n",
        "  if word in word_count:\n",
        "    word_count[word] += 1\n",
        "    #word_count[word] = word_count[word] + 1 #both the above are same\n",
        "  else:\n",
        "   word_count[word] = 1\n",
        "print(word_count)"
      ],
      "metadata": {
        "colab": {
          "base_uri": "https://localhost:8080/"
        },
        "id": "9V1NWwGmdkHG",
        "outputId": "718c6971-9645-4477-ea48-3a1ad7530cb6"
      },
      "execution_count": 6,
      "outputs": [
        {
          "output_type": "stream",
          "name": "stdout",
          "text": [
            "['a', 'b', 'c', 'a', 'a', 'b']\n",
            "{'a': 3, 'b': 2, 'c': 1}\n"
          ]
        }
      ]
    },
    {
      "cell_type": "code",
      "source": [
        "#adding capital A in the text variable\n",
        "text = \"\"\"a b c A a b\"\"\"\n",
        "\n",
        "print(text.split())\n",
        "\n",
        "word_count = {}\n",
        "\n",
        "for word in text.split():\n",
        "  if word in word_count:\n",
        "    word_count[word] += 1\n",
        "    #word_count[word] = word_count[word] + 1 #both the above are same\n",
        "  else:\n",
        "   word_count[word] = 1\n",
        "print(word_count)"
      ],
      "metadata": {
        "colab": {
          "base_uri": "https://localhost:8080/"
        },
        "id": "iiRHkQAYelRp",
        "outputId": "0317f2fb-88da-4e34-f0b2-727c6c5d91ce"
      },
      "execution_count": 7,
      "outputs": [
        {
          "output_type": "stream",
          "name": "stdout",
          "text": [
            "['a', 'b', 'c', 'A', 'a', 'b']\n",
            "{'a': 2, 'b': 2, 'c': 1, 'A': 1}\n"
          ]
        }
      ]
    },
    {
      "cell_type": "markdown",
      "source": [
        "Functions & More"
      ],
      "metadata": {
        "id": "MI-f-154fIu2"
      }
    },
    {
      "cell_type": "code",
      "source": [
        "def bark():\n",
        "  print(\"woof woof!\")\n",
        "\n",
        "for x in range(100):\n",
        "  bark()"
      ],
      "metadata": {
        "colab": {
          "base_uri": "https://localhost:8080/"
        },
        "id": "UBytA6YNfKtS",
        "outputId": "e307dca3-b94e-4671-979a-0a60a80fdff5"
      },
      "execution_count": 11,
      "outputs": [
        {
          "output_type": "stream",
          "name": "stdout",
          "text": [
            "woof woof!\n",
            "woof woof!\n",
            "woof woof!\n",
            "woof woof!\n",
            "woof woof!\n",
            "woof woof!\n",
            "woof woof!\n",
            "woof woof!\n",
            "woof woof!\n",
            "woof woof!\n",
            "woof woof!\n",
            "woof woof!\n",
            "woof woof!\n",
            "woof woof!\n",
            "woof woof!\n",
            "woof woof!\n",
            "woof woof!\n",
            "woof woof!\n",
            "woof woof!\n",
            "woof woof!\n",
            "woof woof!\n",
            "woof woof!\n",
            "woof woof!\n",
            "woof woof!\n",
            "woof woof!\n",
            "woof woof!\n",
            "woof woof!\n",
            "woof woof!\n",
            "woof woof!\n",
            "woof woof!\n",
            "woof woof!\n",
            "woof woof!\n",
            "woof woof!\n",
            "woof woof!\n",
            "woof woof!\n",
            "woof woof!\n",
            "woof woof!\n",
            "woof woof!\n",
            "woof woof!\n",
            "woof woof!\n",
            "woof woof!\n",
            "woof woof!\n",
            "woof woof!\n",
            "woof woof!\n",
            "woof woof!\n",
            "woof woof!\n",
            "woof woof!\n",
            "woof woof!\n",
            "woof woof!\n",
            "woof woof!\n",
            "woof woof!\n",
            "woof woof!\n",
            "woof woof!\n",
            "woof woof!\n",
            "woof woof!\n",
            "woof woof!\n",
            "woof woof!\n",
            "woof woof!\n",
            "woof woof!\n",
            "woof woof!\n",
            "woof woof!\n",
            "woof woof!\n",
            "woof woof!\n",
            "woof woof!\n",
            "woof woof!\n",
            "woof woof!\n",
            "woof woof!\n",
            "woof woof!\n",
            "woof woof!\n",
            "woof woof!\n",
            "woof woof!\n",
            "woof woof!\n",
            "woof woof!\n",
            "woof woof!\n",
            "woof woof!\n",
            "woof woof!\n",
            "woof woof!\n",
            "woof woof!\n",
            "woof woof!\n",
            "woof woof!\n",
            "woof woof!\n",
            "woof woof!\n",
            "woof woof!\n",
            "woof woof!\n",
            "woof woof!\n",
            "woof woof!\n",
            "woof woof!\n",
            "woof woof!\n",
            "woof woof!\n",
            "woof woof!\n",
            "woof woof!\n",
            "woof woof!\n",
            "woof woof!\n",
            "woof woof!\n",
            "woof woof!\n",
            "woof woof!\n",
            "woof woof!\n",
            "woof woof!\n",
            "woof woof!\n",
            "woof woof!\n"
          ]
        }
      ]
    },
    {
      "cell_type": "code",
      "source": [
        "#Q) Create a function called Hello, that prints \"Hello Nick!\"\n",
        "\n",
        "def Hello():\n",
        "  print(\"Hello Nick!\")\n",
        "\n",
        "Hello()"
      ],
      "metadata": {
        "colab": {
          "base_uri": "https://localhost:8080/"
        },
        "id": "zEp2BRRhg44H",
        "outputId": "238481ba-3b0f-4185-fe99-ba4b05c51008"
      },
      "execution_count": 12,
      "outputs": [
        {
          "output_type": "stream",
          "name": "stdout",
          "text": [
            "Hello Nick!\n"
          ]
        }
      ]
    },
    {
      "cell_type": "code",
      "source": [
        "# Parameters\n",
        "\n",
        "def hello(name):\n",
        "  print(f\"Hello {name}!\")\n",
        "\n",
        "hello(\"John\")\n",
        "\n",
        "def add_numbers(num1,num2):\n",
        "  print(num1 + num2)\n",
        "\n",
        "add_numbers(10,20)\n",
        "add_numbers(111,222)"
      ],
      "metadata": {
        "colab": {
          "base_uri": "https://localhost:8080/"
        },
        "id": "9YmpdBfdh3mn",
        "outputId": "b66e54fe-272b-4ebc-b459-c44a5703fd0f"
      },
      "execution_count": 15,
      "outputs": [
        {
          "output_type": "stream",
          "name": "stdout",
          "text": [
            "Hello John!\n",
            "30\n",
            "333\n"
          ]
        }
      ]
    },
    {
      "cell_type": "code",
      "source": [
        "#create a function called dog_info that takes in a dogs age and name and prints a sentence about the dog"
      ],
      "metadata": {
        "id": "UC6Jc87yialT"
      },
      "execution_count": null,
      "outputs": []
    },
    {
      "cell_type": "code",
      "source": [
        "def dog_info():\n",
        "  age=int(input(\"Enter dog's age: \"))\n",
        "  name=input(\"Enter dog's name: \")\n",
        "  print(f\"My dog's name is {name} and it is {age} years old\")\n",
        "\n",
        "dog_info()\n"
      ],
      "metadata": {
        "colab": {
          "base_uri": "https://localhost:8080/"
        },
        "id": "9RLDih5CilmQ",
        "outputId": "e4254f10-edec-44e2-a797-cb7f7d3d16e8"
      },
      "execution_count": 24,
      "outputs": [
        {
          "output_type": "stream",
          "name": "stdout",
          "text": [
            "Enter dog's age: 3\n",
            "Enter dog's name: Jack\n",
            "My dog's name is Jack and it is 3 years old\n"
          ]
        }
      ]
    },
    {
      "cell_type": "code",
      "source": [
        "def dog_info2(name,age):\n",
        "  print(f\"My dog's name is {name} and it is {age} years old\")\n",
        "\n",
        "dog_info2(\"Tom\",7)"
      ],
      "metadata": {
        "colab": {
          "base_uri": "https://localhost:8080/"
        },
        "id": "zzBN35v4lvDq",
        "outputId": "c921ca11-0f79-438b-91e2-43f419b5b6c9"
      },
      "execution_count": 23,
      "outputs": [
        {
          "output_type": "stream",
          "name": "stdout",
          "text": [
            "The dog's name is Tom and it is 7 years old\n"
          ]
        }
      ]
    },
    {
      "cell_type": "code",
      "source": [
        "#Return Function to return information\n",
        "\n",
        "def double(number):\n",
        "  return number*2\n",
        "\n",
        "double(100)\n"
      ],
      "metadata": {
        "colab": {
          "base_uri": "https://localhost:8080/"
        },
        "id": "gFZBkFsFmpTv",
        "outputId": "8952b661-6fc8-47b5-c5a6-00c46d5569e6"
      },
      "execution_count": 28,
      "outputs": [
        {
          "output_type": "execute_result",
          "data": {
            "text/plain": [
              "200"
            ]
          },
          "metadata": {},
          "execution_count": 28
        }
      ]
    },
    {
      "cell_type": "code",
      "source": [
        "#Q) Create a function that returns a string in all caps\n",
        "\n",
        "def allcaps():\n",
        "  string=input(\"Enter a string in all lower or mixed case to get result in all upper case: \")\n",
        "  print(string.upper())\n",
        "\n",
        "allcaps()"
      ],
      "metadata": {
        "colab": {
          "base_uri": "https://localhost:8080/"
        },
        "id": "h4hhxrRDnXwT",
        "outputId": "3ca7df54-e1e1-49ee-ea10-b8aa2f42a585"
      },
      "execution_count": 36,
      "outputs": [
        {
          "output_type": "stream",
          "name": "stdout",
          "text": [
            "Enter a string in all lower or mixed case to get result in all upper case: alkhsf\n",
            "ALKHSF\n"
          ]
        }
      ]
    },
    {
      "cell_type": "code",
      "source": [
        "#INPUT\n",
        "\n",
        "user_text=input(\"Enter a string: \")\n",
        "print(user_text.upper())\n",
        "\n",
        "user_number=int(input(\"Enter a number: \"))\n",
        "print(user_number*2)"
      ],
      "metadata": {
        "colab": {
          "base_uri": "https://localhost:8080/"
        },
        "id": "pm-05jKup-5E",
        "outputId": "402a2413-dab3-41dd-be09-f1f22e014684"
      },
      "execution_count": 38,
      "outputs": [
        {
          "output_type": "stream",
          "name": "stdout",
          "text": [
            "Enter a string: afasfd\n",
            "AFASFD\n",
            "Enter a number: 4\n",
            "8\n"
          ]
        }
      ]
    },
    {
      "cell_type": "code",
      "source": [
        "#Q) First ask for some text, then enter the prompt: Press 1 to upper case, 2 to lowercase\n",
        "#and then either upper or lower case it\n",
        "\n",
        "enter_text=input(\"Enter a string: \")\n",
        "user_choice=int(input(\"Press 1 to UPPERCASE, 2 to lowercase: \"))\n",
        "\n",
        "if user_choice == 1:\n",
        "  print(enter_text.upper())\n",
        "elif user_choice == 2:\n",
        "  print(enter_text.lower())\n",
        "else:\n",
        "  print(\"Invalid choice! Press 1 to UPPERCASE, 2 to lowercase\")"
      ],
      "metadata": {
        "colab": {
          "base_uri": "https://localhost:8080/"
        },
        "id": "KLDmYdYtqUoZ",
        "outputId": "7e4c90e4-00d9-4956-9b3b-fbff7a5ce05e"
      },
      "execution_count": 46,
      "outputs": [
        {
          "output_type": "stream",
          "name": "stdout",
          "text": [
            "Enter a string: hfgfg\n",
            "Press 1 to UPPERCASE, 2 to lowercase: 0\n",
            "Invalid choice! Press 1 to UPPERCASE, 2 to lowercase\n"
          ]
        }
      ]
    },
    {
      "cell_type": "code",
      "source": [
        "# Your code goes here.\n",
        "#the below argument returns True is there is a remainder,\n",
        "#for 0 remainder the output is false\n",
        "def has_remainder():\n",
        "  x=int(input(\"Enter a number: \"))\n",
        "  y=int(input(\"Enter another number: \"))\n",
        "\n",
        "  if x % y == 0:\n",
        "    return False\n",
        "  else:\n",
        "    return True\n",
        "\n",
        "has_remainder()"
      ],
      "metadata": {
        "colab": {
          "base_uri": "https://localhost:8080/"
        },
        "id": "rAZlPrFxsvUE",
        "outputId": "58c29a6b-f27d-4430-f75a-774adf542418"
      },
      "execution_count": 68,
      "outputs": [
        {
          "name": "stdout",
          "output_type": "stream",
          "text": [
            "Enter a number: 6\n",
            "Enter another number: 6\n"
          ]
        },
        {
          "output_type": "execute_result",
          "data": {
            "text/plain": [
              "False"
            ]
          },
          "metadata": {},
          "execution_count": 68
        }
      ]
    },
    {
      "cell_type": "code",
      "source": [
        "# Your code goes here.\n",
        "#the below argument returns True is there is a remainder,\n",
        "#for 0 remainder the output is false\n",
        "x=int(input(\"Enter a number: \"))\n",
        "y=int(input(\"Enter another number: \"))\n",
        "\n",
        "if x % y == 0:\n",
        "  print(\"False\")\n",
        "else:\n",
        "  print(\"True\")"
      ],
      "metadata": {
        "colab": {
          "base_uri": "https://localhost:8080/"
        },
        "id": "KZM6dcvouivJ",
        "outputId": "33e33ba4-b360-43a5-ad36-2a945e92ef2c"
      },
      "execution_count": 67,
      "outputs": [
        {
          "output_type": "stream",
          "name": "stdout",
          "text": [
            "Enter a number: 6\n",
            "Enter another number: 7\n",
            "True\n"
          ]
        }
      ]
    },
    {
      "cell_type": "code",
      "source": [
        "#Project 2) Create a game for the user to guess a nuumber and also share comment\n",
        "#as you need to guess lower or higher and at last comment as you took x number of\n",
        "#attempt to get the right answer\n",
        "\n",
        "import random\n",
        "number = random.randint(1, 10)\n",
        "guess=int(input(\"Guess a number between 1-10: \"))\n",
        "while guess != number:\n",
        "  guess=int(input(\"Guess again: \"))\n",
        "  if guess < number:\n",
        "    print(\"You guessed too low!\")\n",
        "  else:\n",
        "    print(\"You guessed too high!\")\n",
        "\n",
        "if guess == number:\n",
        "  print(\"You got it right!\")\n",
        "  print(\"You took 1 attempt to get the right answer\")\n",
        "elif guess < number:\n",
        "  print(\"You guessed too low!\")\n",
        "else:\n",
        "  print(\"You guessed too high!\")\n",
        "\n",
        "print(number)\n",
        "\n"
      ],
      "metadata": {
        "colab": {
          "base_uri": "https://localhost:8080/"
        },
        "id": "e8eUo7nGx2ub",
        "outputId": "4d833f10-3c86-4b74-d9a0-0199a34c88ba"
      },
      "execution_count": 71,
      "outputs": [
        {
          "output_type": "stream",
          "name": "stdout",
          "text": [
            "7\n"
          ]
        }
      ]
    },
    {
      "cell_type": "code",
      "source": [
        "#Project 2) Create a game for the user to guess a nuumber and also share comment\n",
        "#as you need to guess lower or higher and at last comment as you took x number of\n",
        "#attempt to get the right answer\n",
        "#this code is from the video:)\n",
        "\n",
        "import random\n",
        "import time\n",
        "print(\"Hi! Welcome to the guessing game. Im going to pick a random whole number between 1-10\")\n",
        "time.sleep(1)\n",
        "guess = int(input(\"Guess a number between 1-10: \"))\n",
        "correct_number=random.randint(1,10)\n",
        "guess_count=1\n",
        "time.sleep(1)\n",
        "while guess != correct_number:\n",
        "  guess_count += 1\n",
        "  if guess < correct_number:\n",
        "    time.sleep(1)\n",
        "    guess = int(input(\"Wrong! You need to guess higher. What is your Guess? \"))\n",
        "  else:\n",
        "    time.sleep(1)\n",
        "    guess = int(input(\"Wrong! You need to guess lower. What is your Guess? \"))\n",
        "\n",
        "if guess == correct_number:\n",
        "  time.sleep(1)\n",
        "  print(\"You got it right!\")\n",
        "print(f\"Congrats! :) The right answer is {correct_number}. It took you {guess_count} guesses.\")"
      ],
      "metadata": {
        "colab": {
          "base_uri": "https://localhost:8080/"
        },
        "id": "jQQUPj6zzkyN",
        "outputId": "92f6ce8b-9469-4d38-b34e-527f8621e846"
      },
      "execution_count": 81,
      "outputs": [
        {
          "output_type": "stream",
          "name": "stdout",
          "text": [
            "Hi! Welcome to the guessing game. Im going to pick a random whole number between 1-10\n",
            "Guess a number between 1-10: 10\n",
            "Wrong! You need to guess lower. What is your Guess? 7\n",
            "Wrong! You need to guess lower. What is your Guess? 4\n",
            "Wrong! You need to guess higher. What is your Guess? 5\n",
            "You got it right!\n",
            "Congrats! The right answer is 5. It took you 4 guesses.\n"
          ]
        }
      ]
    }
  ]
}